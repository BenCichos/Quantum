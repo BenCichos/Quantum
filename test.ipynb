{
 "cells": [
  {
   "cell_type": "code",
   "execution_count": 1,
   "metadata": {},
   "outputs": [
    {
     "data": {
      "text/plain": [
       "Grid (generic function with 1 method)"
      ]
     },
     "metadata": {},
     "output_type": "display_data"
    }
   ],
   "source": [
    "include(\"quantum.jl\")\n",
    "using LinearAlgebra\n",
    "Grid(a::Vector, b::Vector) = collect(Iterators.product(a, b))"
   ]
  },
  {
   "cell_type": "code",
   "execution_count": 2,
   "metadata": {},
   "outputs": [
    {
     "data": {
      "text/plain": [
       "Ket{2}(ComplexF64[0.5773502691896258 + 0.0im, -0.40824829046386346 - 0.7071067811865476im])"
      ]
     },
     "metadata": {},
     "output_type": "display_data"
    }
   ],
   "source": [
    "# define sic povm projectors\n",
    "ψ₀ = Ket([1,0])\n",
    "ψ₁ = Ket([1/sqrt(3), sqrt(2/3)])\n",
    "ψ₂ = 1/sqrt(3) * Ket([1, sqrt(2)*exp(2*pi*im/3)])\n",
    "ψ₃ = 1/sqrt(3) * Ket([1, sqrt(2)*exp(4*pi*im/3)])"
   ]
  },
  {
   "cell_type": "code",
   "execution_count": 27,
   "metadata": {},
   "outputs": [],
   "source": [
    "bs = BlochSphere()\n",
    "push!(bs, rand(Ket{2}))\n",
    "plot(bs)"
   ]
  },
  {
   "cell_type": "code",
   "execution_count": 3,
   "metadata": {},
   "outputs": [
    {
     "data": {
      "text/plain": [
       "Ket{2}(ComplexF64[0.8164965809277261 + 0.0im, 0.288675134594813 + 0.5im])"
      ]
     },
     "metadata": {},
     "output_type": "display_data"
    }
   ],
   "source": [
    "# define projectors orthogonal to sic povm projectors\n",
    "ϕ₀ = Ket([0,1])\n",
    "ϕ₁ = 1/sqrt(3) * Ket([sqrt(2), -1])\n",
    "ϕ₂ = 1/sqrt(3) * Ket([-sqrt(2), exp(2*pi*im/3)])\n",
    "ϕ₃ = 1/sqrt(3) * Ket([sqrt(2), exp(pi*im/3)])"
   ]
  },
  {
   "cell_type": "code",
   "execution_count": 6,
   "metadata": {},
   "outputs": [],
   "source": [
    "# ensure orthogonality\n",
    "@assert isapprox(inner(ϕ₀,ψ₀), 0, atol=1e-15) \n",
    "@assert isapprox(inner(ϕ₁,ψ₁), 0, atol=1e-15)\n",
    "@assert isapprox(inner(ϕ₂,ψ₂), 0, atol=1e-15)\n",
    "@assert isapprox(inner(ϕ₃,ψ₃), 0, atol=1e-15)"
   ]
  },
  {
   "cell_type": "code",
   "execution_count": 122,
   "metadata": {},
   "outputs": [
    {
     "data": {
      "text/plain": [
       "2×2 Matrix{ComplexF64}:\n",
       "  0.333333+0.0im       -0.235702-0.408248im\n",
       " -0.235702+0.408248im   0.666667+0.0im"
      ]
     },
     "metadata": {},
     "output_type": "display_data"
    }
   ],
   "source": [
    "data(π₂)"
   ]
  },
  {
   "cell_type": "code",
   "execution_count": 131,
   "metadata": {},
   "outputs": [
    {
     "data": {
      "text/plain": [
       "16"
      ]
     },
     "metadata": {},
     "output_type": "display_data"
    }
   ],
   "source": [
    "rank(permutedims(hcat([reshape(data(Π), 16) for Π in Πs]...)))"
   ]
  },
  {
   "cell_type": "code",
   "execution_count": 3,
   "metadata": {},
   "outputs": [
    {
     "data": {
      "text/plain": [
       "4-element Vector{Operator{2}}:\n",
       " Operator{2}(ComplexF64[1.0 + 0.0im 0.0 + 0.0im; 0.0 + 0.0im 0.0 + 0.0im])\n",
       " Operator{2}(ComplexF64[0.3333333333333334 + 0.0im 0.47140452079103173 + 0.0im; 0.47140452079103173 + 0.0im 0.6666666666666666 + 0.0im])\n",
       " Operator{2}(ComplexF64[0.3333333333333334 + 0.0im -0.2357022603955158 - 0.4082482904638632im; -0.2357022603955158 + 0.4082482904638632im 0.6666666666666667 + 0.0im])\n",
       " Operator{2}(ComplexF64[0.3333333333333334 + 0.0im -0.23570226039551612 + 0.4082482904638631im; -0.23570226039551612 - 0.4082482904638631im 0.6666666666666672 + 0.0im])"
      ]
     },
     "metadata": {},
     "output_type": "display_data"
    }
   ],
   "source": [
    "# define new projectors\n",
    "π₀ = outer(ψ₀) \n",
    "π₁ = outer(ψ₁) \n",
    "π₂ = outer(ψ₂) \n",
    "π₃ = outer(ψ₃)\n",
    "πs = [π₀, π₁, π₂, π₃]"
   ]
  },
  {
   "cell_type": "code",
   "execution_count": 30,
   "metadata": {},
   "outputs": [
    {
     "data": {
      "text/plain": [
       "1.0000000000000013"
      ]
     },
     "metadata": {},
     "output_type": "display_data"
    }
   ],
   "source": [
    "ρ̂ = density(rand(Ket{2}))\n",
    "ms  = 1/2 * [tr(ρ̂*π) for π in πs]\n",
    "ρ̂ᵣ = 3 * sum([π*m for (π, m) in zip(πs, ms)]) - Operator([1 0; 0 1])\n",
    "fidelity(ρ̂ᵣ, ρ̂)"
   ]
  },
  {
   "cell_type": "code",
   "execution_count": 198,
   "metadata": {},
   "outputs": [
    {
     "data": {
      "text/plain": [
       "Operator{4}(ComplexF64[4.000000000000002 + 0.0im -3.608224830031759e-16 - 1.942890293094024e-16im -3.0531133177191805e-16 - 2.220446049250313e-16im 1.3877787807814457e-17 + 2.7755575615628914e-17im; -3.608224830031759e-16 + 1.942890293094024e-16im 4.000000000000002 + 0.0im -5.551115123125783e-17 + 0.0im -3.608224830031759e-16 - 2.7755575615628914e-16im; -3.0531133177191805e-16 + 2.220446049250313e-16im -5.551115123125783e-17 + 0.0im 4.000000000000001 + 0.0im -3.608224830031759e-16 - 3.3306690738754696e-16im; 1.3877787807814457e-17 - 2.7755575615628914e-17im -3.608224830031759e-16 + 2.7755575615628914e-16im -3.608224830031759e-16 + 3.3306690738754696e-16im 4.000000000000002 + 0.0im])"
      ]
     },
     "metadata": {},
     "output_type": "display_data"
    }
   ],
   "source": [
    "sum(Πs)"
   ]
  },
  {
   "cell_type": "code",
   "execution_count": 15,
   "metadata": {},
   "outputs": [],
   "source": [
    "matrices = [kron(πs[i],πs[j]) for i in eachindex(πs) for j in eachindex(πs)];"
   ]
  },
  {
   "cell_type": "code",
   "execution_count": 55,
   "metadata": {},
   "outputs": [
    {
     "data": {
      "text/plain": [
       "16-element Vector{Operator{4}}:\n",
       " Operator{4}(ComplexF64[1.0 + 0.0im 0.0 + 0.0im 0.0 + 0.0im 0.0 + 0.0im; 0.0 + 0.0im 0.0 + 0.0im 0.0 + 0.0im 0.0 + 0.0im; 0.0 + 0.0im 0.0 + 0.0im 0.0 + 0.0im 0.0 + 0.0im; 0.0 + 0.0im 0.0 + 0.0im 0.0 + 0.0im 0.0 + 0.0im])\n",
       " Operator{4}(ComplexF64[0.11111111111111117 + 0.0im 0.1571348402636773 + 0.0im 0.0 + 0.0im 0.0 + 0.0im; 0.1571348402636773 + 0.0im 0.22222222222222227 + 0.0im 0.0 + 0.0im 0.0 + 0.0im; 0.0 + 0.0im 0.0 + 0.0im 0.0 + 0.0im 0.0 + 0.0im; 0.0 + 0.0im 0.0 + 0.0im 0.0 + 0.0im 0.0 + 0.0im])\n",
       " Operator{4}(ComplexF64[0.11111111111111117 + 0.0im -0.07856742013183862 - 0.13608276348795442im 0.0 + 0.0im 0.0 + 0.0im; -0.07856742013183862 + 0.13608276348795442im 0.22222222222222232 + 0.0im -0.0 + 0.0im 0.0 + 0.0im; 0.0 + 0.0im 0.0 + 0.0im 0.0 + 0.0im 0.0 + 0.0im; -0.0 + 0.0im 0.0 + 0.0im -0.0 + 0.0im 0.0 + 0.0im])\n",
       " Operator{4}(ComplexF64[0.11111111111111117 + 0.0im -0.07856742013183873 + 0.1360827634879544im 0.0 + 0.0im -0.0 + 0.0im; -0.07856742013183873 - 0.1360827634879544im 0.22222222222222246 + 0.0im 0.0 + 0.0im 0.0 + 0.0im; 0.0 + 0.0im -0.0 + 0.0im 0.0 + 0.0im -0.0 + 0.0im; 0.0 + 0.0im 0.0 + 0.0im 0.0 + 0.0im 0.0 + 0.0im])\n",
       " Operator{4}(ComplexF64[0.11111111111111117 + 0.0im 0.0 + 0.0im 0.1571348402636773 + 0.0im 0.0 + 0.0im; 0.0 + 0.0im 0.0 + 0.0im 0.0 + 0.0im 0.0 + 0.0im; 0.1571348402636773 + 0.0im 0.0 + 0.0im 0.22222222222222227 + 0.0im 0.0 + 0.0im; 0.0 + 0.0im 0.0 + 0.0im 0.0 + 0.0im 0.0 + 0.0im])\n",
       " Operator{4}(ComplexF64[0.012345679012345692 + 0.0im 0.017459426695964154 + 0.0im 0.017459426695964154 + 0.0im 0.024691358024691377 + 0.0im; 0.017459426695964154 + 0.0im 0.024691358024691377 + 0.0im 0.024691358024691377 + 0.0im 0.034918853391928295 + 0.0im; 0.017459426695964154 + 0.0im 0.024691358024691377 + 0.0im 0.024691358024691377 + 0.0im 0.034918853391928295 + 0.0im; 0.024691358024691377 + 0.0im 0.034918853391928295 + 0.0im 0.034918853391928295 + 0.0im 0.04938271604938274 + 0.0im])\n",
       " Operator{4}(ComplexF64[0.012345679012345692 + 0.0im -0.008729713347982074 - 0.015120307054217167im 0.017459426695964154 + 0.0im -0.012345679012345685 - 0.021383343303319494im; -0.008729713347982074 + 0.015120307054217167im 0.024691358024691384 + 0.0im -0.012345679012345685 + 0.021383343303319494im 0.0349188533919283 + 0.0im; 0.017459426695964154 + 0.0im -0.012345679012345685 - 0.021383343303319494im 0.024691358024691377 + 0.0im -0.01745942669596414 - 0.030240614108434326im; -0.012345679012345685 + 0.021383343303319494im 0.0349188533919283 + 0.0im -0.01745942669596414 + 0.030240614108434326im 0.04938271604938275 + 0.0im])\n",
       " Operator{4}(ComplexF64[0.012345679012345692 + 0.0im -0.008729713347982086 + 0.015120307054217163im 0.017459426695964154 + 0.0im -0.012345679012345703 + 0.02138334330331949im; -0.008729713347982086 - 0.015120307054217163im 0.0246913580246914 + 0.0im -0.012345679012345703 - 0.02138334330331949im 0.03491885339192832 + 0.0im; 0.017459426695964154 + 0.0im -0.012345679012345703 + 0.02138334330331949im 0.024691358024691377 + 0.0im -0.01745942669596417 + 0.030240614108434316im; -0.012345679012345703 - 0.02138334330331949im 0.03491885339192832 + 0.0im -0.01745942669596417 - 0.030240614108434316im 0.049382716049382776 + 0.0im])\n",
       " Operator{4}(ComplexF64[0.11111111111111117 + 0.0im 0.0 + 0.0im -0.07856742013183862 - 0.13608276348795442im 0.0 + 0.0im; 0.0 + 0.0im 0.0 + 0.0im 0.0 + 0.0im 0.0 + 0.0im; -0.07856742013183862 + 0.13608276348795442im -0.0 + 0.0im 0.22222222222222232 + 0.0im 0.0 + 0.0im; -0.0 + 0.0im -0.0 + 0.0im 0.0 + 0.0im 0.0 + 0.0im])\n",
       " Operator{4}(ComplexF64[0.012345679012345692 + 0.0im 0.017459426695964154 + 0.0im -0.008729713347982074 - 0.015120307054217167im -0.012345679012345685 - 0.021383343303319494im; 0.017459426695964154 + 0.0im 0.024691358024691377 + 0.0im -0.012345679012345685 - 0.021383343303319494im -0.01745942669596414 - 0.030240614108434326im; -0.008729713347982074 + 0.015120307054217167im -0.012345679012345685 + 0.021383343303319494im 0.024691358024691384 + 0.0im 0.0349188533919283 + 0.0im; -0.012345679012345685 + 0.021383343303319494im -0.01745942669596414 + 0.030240614108434326im 0.0349188533919283 + 0.0im 0.04938271604938275 + 0.0im])\n",
       " Operator{4}(ComplexF64[0.012345679012345692 + 0.0im -0.008729713347982074 - 0.015120307054217167im -0.008729713347982074 - 0.015120307054217167im -0.012345679012345703 + 0.021383343303319494im; -0.008729713347982074 + 0.015120307054217167im 0.024691358024691384 + 0.0im 0.024691358024691384 + 0.0im -0.017459426695964144 - 0.030240614108434333im; -0.008729713347982074 + 0.015120307054217167im 0.024691358024691384 + 0.0im 0.024691358024691384 + 0.0im -0.017459426695964144 - 0.030240614108434333im; -0.012345679012345703 - 0.021383343303319494im -0.017459426695964144 + 0.030240614108434333im -0.017459426695964144 + 0.030240614108434333im 0.049382716049382755 + 0.0im])\n",
       " Operator{4}(ComplexF64[0.012345679012345692 + 0.0im -0.008729713347982086 + 0.015120307054217163im -0.008729713347982074 - 0.015120307054217167im 0.024691358024691388 + 1.6961740653995458e-17im; -0.008729713347982086 - 0.015120307054217163im 0.0246913580246914 + 0.0im -0.012345679012345692 + 0.021383343303319504im -0.017459426695964158 - 0.03024061410843435im; -0.008729713347982074 + 0.015120307054217167im -0.012345679012345692 - 0.021383343303319504im 0.024691358024691384 + 0.0im -0.01745942669596417 + 0.03024061410843432im; 0.024691358024691388 - 1.6961740653995458e-17im -0.017459426695964158 + 0.03024061410843435im -0.01745942669596417 - 0.03024061410843432im 0.04938271604938279 + 0.0im])\n",
       " Operator{4}(ComplexF64[0.11111111111111117 + 0.0im 0.0 + 0.0im -0.07856742013183873 + 0.1360827634879544im -0.0 + 0.0im; 0.0 + 0.0im 0.0 + 0.0im -0.0 + 0.0im -0.0 + 0.0im; -0.07856742013183873 - 0.1360827634879544im 0.0 + 0.0im 0.22222222222222246 + 0.0im 0.0 + 0.0im; 0.0 + 0.0im 0.0 + 0.0im 0.0 + 0.0im 0.0 + 0.0im])\n",
       " Operator{4}(ComplexF64[0.012345679012345692 + 0.0im 0.017459426695964154 + 0.0im -0.008729713347982086 + 0.015120307054217163im -0.012345679012345703 + 0.02138334330331949im; 0.017459426695964154 + 0.0im 0.024691358024691377 + 0.0im -0.012345679012345703 + 0.02138334330331949im -0.01745942669596417 + 0.030240614108434316im; -0.008729713347982086 - 0.015120307054217163im -0.012345679012345703 - 0.02138334330331949im 0.0246913580246914 + 0.0im 0.03491885339192832 + 0.0im; -0.012345679012345703 - 0.02138334330331949im -0.01745942669596417 - 0.030240614108434316im 0.03491885339192832 + 0.0im 0.049382716049382776 + 0.0im])\n",
       " Operator{4}(ComplexF64[0.012345679012345692 + 0.0im -0.008729713347982074 - 0.015120307054217167im -0.008729713347982086 + 0.015120307054217163im 0.024691358024691388 + 1.6961740653995458e-17im; -0.008729713347982074 + 0.015120307054217167im 0.024691358024691384 + 0.0im -0.012345679012345692 - 0.021383343303319504im -0.01745942669596417 + 0.03024061410843432im; -0.008729713347982086 - 0.015120307054217163im -0.012345679012345692 + 0.021383343303319504im 0.0246913580246914 + 0.0im -0.017459426695964158 - 0.03024061410843435im; 0.024691358024691388 - 1.6961740653995458e-17im -0.01745942669596417 - 0.03024061410843432im -0.017459426695964158 + 0.03024061410843435im 0.04938271604938279 + 0.0im])\n",
       " Operator{4}(ComplexF64[0.012345679012345692 + 0.0im -0.008729713347982086 + 0.015120307054217163im -0.008729713347982086 + 0.015120307054217163im -0.012345679012345677 - 0.021383343303319514im; -0.008729713347982086 - 0.015120307054217163im 0.0246913580246914 + 0.0im 0.02469135802469139 + 0.0im -0.01745942669596418 + 0.03024061410843434im; -0.008729713347982086 - 0.015120307054217163im 0.02469135802469139 + 0.0im 0.0246913580246914 + 0.0im -0.01745942669596418 + 0.03024061410843434im; -0.012345679012345677 + 0.021383343303319514im -0.01745942669596418 - 0.03024061410843434im -0.01745942669596418 - 0.03024061410843434im 0.049382716049382824 + 0.0im])"
      ]
     },
     "metadata": {},
     "output_type": "display_data"
    }
   ],
   "source": [
    "ρ̂ = density(Ket([1,0,0,0]))\n",
    "ms = [tr(ρ̂*m)*m for m in matrices]"
   ]
  },
  {
   "cell_type": "code",
   "execution_count": null,
   "metadata": {},
   "outputs": [],
   "source": [
    " "
   ]
  },
  {
   "cell_type": "code",
   "execution_count": 61,
   "metadata": {},
   "outputs": [
    {
     "data": {
      "text/plain": [
       "4×4 Matrix{ComplexF64}:\n",
       "  2.0+0.0im  -0.0-0.0im  -0.0-0.0im  -0.0+0.0im\n",
       " -0.0+0.0im   1.0+0.0im  -0.0+0.0im  -0.0-0.0im\n",
       " -0.0+0.0im  -0.0+0.0im   1.0+0.0im  -0.0-0.0im\n",
       " -0.0-0.0im  -0.0+0.0im  -0.0+0.0im   0.0+0.0im"
      ]
     },
     "metadata": {},
     "output_type": "display_data"
    }
   ],
   "source": [
    "display(round.(data(sum(ms))))"
   ]
  },
  {
   "cell_type": "code",
   "execution_count": 23,
   "metadata": {},
   "outputs": [
    {
     "data": {
      "text/plain": [
       "4-element Vector{ComplexF64}:\n",
       "  0.3333333333333334 + 0.0im\n",
       " -0.2357022603955158 + 0.4082482904638632im\n",
       " -0.2357022603955158 - 0.4082482904638632im\n",
       "  0.6666666666666667 + 0.0im"
      ]
     },
     "metadata": {},
     "output_type": "display_data"
    }
   ],
   "source": [
    "reshape(data(π₂), 4)"
   ]
  },
  {
   "cell_type": "code",
   "execution_count": 14,
   "metadata": {},
   "outputs": [
    {
     "data": {
      "text/plain": [
       "4×4 Matrix{ComplexF64}:\n",
       " 0.333333+0.0im  0.0+0.0im  0.471405+0.0im  0.0+0.0im\n",
       "      0.0+0.0im  0.0+0.0im       0.0+0.0im  0.0+0.0im\n",
       " 0.471405+0.0im  0.0+0.0im  0.666667+0.0im  0.0+0.0im\n",
       "      0.0+0.0im  0.0+0.0im       0.0+0.0im  0.0+0.0im"
      ]
     },
     "metadata": {},
     "output_type": "display_data"
    }
   ],
   "source": [
    "display(data(kron(π₁, π₀)))"
   ]
  },
  {
   "cell_type": "code",
   "execution_count": 6,
   "metadata": {},
   "outputs": [
    {
     "data": {
      "text/plain": [
       "Operator{4}(ComplexF64[0.44444444444444464 + 0.0im 5.204170427930421e-18 - 3.469446951953614e-17im 4.336808689942018e-19 - 3.426078865054194e-17im 8.673617379884035e-19 + 8.673617379884035e-19im; 5.204170427930421e-18 + 3.469446951953614e-17im 0.22222222222222227 + 0.0im -1.734723475976807e-18 + 0.0im 3.469446951953614e-18 - 1.8214596497756474e-17im; 4.336808689942018e-19 + 3.426078865054194e-17im -1.734723475976807e-18 + 0.0im 0.22222222222222227 + 0.0im 3.469446951953614e-18 - 1.9081958235744878e-17im; 8.673617379884035e-19 - 8.673617379884035e-19im 3.469446951953614e-18 + 1.8214596497756474e-17im 3.469446951953614e-18 + 1.9081958235744878e-17im 0.11111111111111119 + 0.0im])"
      ]
     },
     "metadata": {},
     "output_type": "display_data"
    }
   ],
   "source": [
    "ρ̂ = density(Ket([1,0,0,0]))\n",
    "ms  = [tr((matrix/tr(matrix)) * ρ̂) for matrix in matrices]\n",
    "ρ̂ᵣ = sum([m * (Operator(diagm([1/4, 1/4, 1/4, 1/4])) * matrix) for (matrix, m) in zip(matrices, ms)]) # - Operator([1 0 0 0 ; 0 1 0 0; 0 0 1 0; 0 0 0 1])"
   ]
  },
  {
   "cell_type": "code",
   "execution_count": 16,
   "metadata": {},
   "outputs": [],
   "source": [
    "Πs = [kron(πs[i], πs[j]) for i in 1:4 for j in 1:4];"
   ]
  },
  {
   "cell_type": "code",
   "execution_count": 27,
   "metadata": {},
   "outputs": [],
   "source": [
    "repetitions = 1_000_000\n",
    "true_states = rand(Ket{4}, repetitions)\n",
    "estimate_states = rand(Ket{4}, repetitions)\n",
    "fids = map(i -> estimate_fidelity(density(true_states[i]), density(estimate_states[i]), Πs), eachindex(estimate_states));\n",
    "fids_pauli = map(i -> estimate_fidelity(density(true_states[i]), density(estimate_states[i]), paulimatrices(4)), eachindex(estimate_states));"
   ]
  },
  {
   "cell_type": "code",
   "execution_count": 32,
   "metadata": {},
   "outputs": [],
   "source": [
    "f = Figure()\n",
    "ax = Axis(f[1,1])\n",
    "hist!(ax, fids .* 2.25, bins=50)\n",
    "hist!(ax, fids_pauli, bins=50)\n",
    "f"
   ]
  },
  {
   "cell_type": "code",
   "execution_count": 8,
   "metadata": {},
   "outputs": [],
   "source": [
    "# check that matrices are unitary\n",
    "@assert isapprox(data(π₀' * π₀), [1 0; 0 1], atol=1e-10) \"$(data(π₀' * π₀))\"\n",
    "@assert isapprox(data(π₁' * π₁), [1 0; 0 1], atol=1e-10) \"$(data(π₁' * π₁))\"\n",
    "@assert isapprox(data(π₂' * π₂), [1 0; 0 1], atol=1e-10) \"$(data(π₂' * π₂))\"\n",
    "@assert isapprox(data(π₃' * π₃), [1 0; 0 1], atol=1e-10) \"$(data(π₃' * π₃))\""
   ]
  },
  {
   "cell_type": "code",
   "execution_count": 141,
   "metadata": {},
   "outputs": [
    {
     "data": {
      "text/plain": [
       "4-element Vector{ComplexF64}:\n",
       "  0.3333333333333334 + 0.0im\n",
       " 0.33333333333333337 + 0.0im\n",
       "  0.3333333333333337 + 0.0im\n",
       "   1.000000000000001 + 0.0im"
      ]
     },
     "metadata": {},
     "output_type": "display_data"
    }
   ],
   "source": [
    "[tr(πs[i] * πs[j]) for i in eachindex(πs), j in eachindex(πs)][4, :]"
   ]
  },
  {
   "cell_type": "code",
   "execution_count": 136,
   "metadata": {},
   "outputs": [
    {
     "ename": "UndefVarError",
     "evalue": "UndefVarError: `povm` not defined",
     "output_type": "error",
     "traceback": [
      "UndefVarError: `povm` not defined\n",
      "\n",
      "Stacktrace:\n",
      "  [1] (::var\"#369#370\")(i::Int64)\n",
      "    @ Main ~/Programming/University/Quantum/test.ipynb:4\n",
      "  [2] _mapreduce(f::var\"#369#370\", op::typeof(Base.add_sum), #unused#::IndexLinear, A::Base.OneTo{Int64})\n",
      "    @ Base ./reduce.jl:435\n",
      "  [3] _mapreduce_dim(f::Function, op::Function, #unused#::Base._InitialValue, A::Base.OneTo{Int64}, #unused#::Colon)\n",
      "    @ Base ./reducedim.jl:365\n",
      "  [4] #mapreduce#801\n",
      "    @ ./reducedim.jl:357 [inlined]\n",
      "  [5] mapreduce\n",
      "    @ ./reducedim.jl:357 [inlined]\n",
      "  [6] #_sum#811\n",
      "    @ ./reducedim.jl:999 [inlined]\n",
      "  [7] _sum\n",
      "    @ ./reducedim.jl:999 [inlined]\n",
      "  [8] #sum#809\n",
      "    @ ./reducedim.jl:995 [inlined]\n",
      "  [9] sum(f::Function, a::Base.OneTo{Int64})\n",
      "    @ Base ./reducedim.jl:995\n",
      " [10] top-level scope\n",
      "    @ ~/Programming/University/Quantum/test.ipynb:4"
     ]
    }
   ],
   "source": [
    "# use πs for reconstruction of quantum state\n",
    "state = Ket([1,0, 0, 0])\n",
    "ms = 1/2 * map(π -> expectation(state, π), sicpovm_matrices)\n",
    "data(sum(i -> ms[i] * povm[i], eachindex(ms)))"
   ]
  },
  {
   "cell_type": "markdown",
   "metadata": {},
   "source": [
    "# Testing Quantum State Tomography with SIC-POVM"
   ]
  },
  {
   "cell_type": "code",
   "execution_count": 2,
   "metadata": {},
   "outputs": [
    {
     "data": {
      "text/plain": [
       "Ket{2}(ComplexF64[0.5773502691896258 + 0.0im, -0.40824829046386346 - 0.7071067811865476im])"
      ]
     },
     "metadata": {},
     "output_type": "display_data"
    }
   ],
   "source": [
    "# define sic povm projectors\n",
    "ψ₀ = Ket([1,0])\n",
    "ψ₁ = Ket([1/sqrt(3), sqrt(2/3)])\n",
    "ψ₂ = 1/sqrt(3) * Ket([1, sqrt(2)*exp(2*pi*im/3)])\n",
    "ψ₃ = 1/sqrt(3) * Ket([1, sqrt(2)*exp(4*pi*im/3)])"
   ]
  },
  {
   "cell_type": "code",
   "execution_count": 3,
   "metadata": {},
   "outputs": [],
   "source": [
    "# define sic povm projection operators\n",
    "π₀ = outer(ψ₀)\n",
    "π₁ = outer(ψ₁)\n",
    "π₂ = outer(ψ₂)\n",
    "π₃ = outer(ψ₃)\n",
    "πs = [π₀, π₁, π₂, π₃];"
   ]
  },
  {
   "cell_type": "code",
   "execution_count": 4,
   "metadata": {},
   "outputs": [],
   "source": [
    "# define dual frame operators\n",
    "f₀ = Operator([2 0; 0 -1])\n",
    "f₁ = Operator([0 sqrt(2); sqrt(2) 1])\n",
    "f₂ = Operator([0 -(1+im*sqrt(3))/sqrt(2); -(1-im*sqrt(3)) 1])\n",
    "f₃ = Operator([0 -(1-im*sqrt(3))/sqrt(2); -(1+im*sqrt(3)) 1])\n",
    "fs = [f₀, f₁, f₂, f₃];"
   ]
  },
  {
   "cell_type": "code",
   "execution_count": 15,
   "metadata": {},
   "outputs": [],
   "source": [
    "Πs = [kron(πs[i], πs[j]) for i in 1:4 for j in 1:4];"
   ]
  },
  {
   "cell_type": "code",
   "execution_count": 202,
   "metadata": {},
   "outputs": [
    {
     "data": {
      "text/plain": [
       "povm_estimate (generic function with 1 method)"
      ]
     },
     "metadata": {},
     "output_type": "display_data"
    }
   ],
   "source": [
    "function povm_estimate(ρ̂::Operator{4}, σ̂::Operator{4}, Πs::Array{Operator{4},1}, Fs::Array{Operator{4},1})\n",
    "    @assert length(Πs) == length(Fs)\n",
    "    ms_rho, ms_sigma = 1/4 * [tr(Π*ρ̂) for Π in Πs] , 1/4 * [tr(Π*σ̂) for Π in Πs]\n",
    "    ρ_sum = real(data(sum((m_rho*F) for (m_rho, F) in zip(ms_rho, Fs))))\n",
    "    σ_sum = real(data(sum((m_sigma*F) for (m_sigma, F) in zip(ms_sigma, Fs))))\n",
    "    sum(abs, diag(ρ_sum) .- diag(σ_sum))\n",
    "end"
   ]
  },
  {
   "cell_type": "code",
   "execution_count": 203,
   "metadata": {},
   "outputs": [
    {
     "data": {
      "text/plain": [
       "experiment (generic function with 1 method)"
      ]
     },
     "metadata": {},
     "output_type": "display_data"
    }
   ],
   "source": [
    "function experiment()\n",
    "    fids = map(1:1_000_000) do _\n",
    "        ρ̂ = density(rand(Ket{4}))\n",
    "        σ̂ = density(rand(Ket{4}))\n",
    "        povm_estimate(ρ̂, σ̂, Πs, Fs)\n",
    "    end\n",
    "    println(mean(fids), maximum(fids), minimum(fids))\n",
    "    fids\n",
    "end"
   ]
  },
  {
   "cell_type": "code",
   "execution_count": 127,
   "metadata": {},
   "outputs": [
    {
     "data": {
      "text/plain": [
       "2.0029671421627253e-32 + 0.0im"
      ]
     },
     "metadata": {},
     "output_type": "display_data"
    }
   ],
   "source": [
    "# given random state - two qubit\n",
    "ρ̂ = density(rand(Ket{4}))\n",
    "\n",
    "# measure the state using povm projectors\n",
    "ms = 1/4 * real([tr(Π*ρ̂) for Π in Πs])\n",
    "\n",
    "# reconstruct the state using dual frame operators\n",
    "ρ̂ᵣ = sum([m*F for (m, F) in zip(ms, Fs)])\n",
    "sum([(v1-v2)^2 for (v1, v2) in zip(diag(data(ρ̂)), diag(data(ρ̂ᵣ)))])"
   ]
  },
  {
   "cell_type": "code",
   "execution_count": 201,
   "metadata": {},
   "outputs": [
    {
     "data": {
      "text/plain": [
       "0.12933510214005156"
      ]
     },
     "metadata": {},
     "output_type": "display_data"
    }
   ],
   "source": [
    "state = density(rand(Ket{4}))\n",
    "other = density(rand(Ket{4}))\n",
    "povm_estimate(state, other, Πs, Fs)"
   ]
  },
  {
   "cell_type": "code",
   "execution_count": 204,
   "metadata": {},
   "outputs": [
    {
     "name": "stdout",
     "output_type": "stream",
     "text": [
      "0.6604696665238451.95355150182849260.007240928135851657\n"
     ]
    }
   ],
   "source": [
    "hist(experiment(), bins=50)"
   ]
  },
  {
   "cell_type": "code",
   "execution_count": 216,
   "metadata": {},
   "outputs": [
    {
     "data": {
      "text/plain": [
       "new_sgqt (generic function with 1 method)"
      ]
     },
     "metadata": {},
     "output_type": "display_data"
    }
   ],
   "source": [
    "function new_sgqt_walk(ρ̂::Operator{4}, ϕ::Ket{4}, i::Int, paramsᵦ::NamedTuple, paramsᵧ::NamedTuple)\n",
    "    Δᵢ = rand(Ket{4})\n",
    "    indices = sample(1:16, 8, replace=false)\n",
    "    βᵢ = β(i; paramsᵦ...)\n",
    "    γᵢ = γ(i; paramsᵧ...)\n",
    "\n",
    "    σ̂₊, σ̂₋ = normalize!(density(ϕ + (Δᵢ*βᵢ))), normalize!(density(ϕ - (Δᵢ*βᵢ)))\n",
    "    F̃₊, F̃₋ = povm_estimate(ρ̂, σ̂₊, Πs[indices], Fs[indices]), povm_estimate(ρ̂, σ̂₋, Πs[indices], Fs[indices])\n",
    "    gᵢ = -(F̃₊ - F̃₋)/2βᵢ\n",
    "    return normalize(ϕ + γᵢ*gᵢ*Δᵢ)\n",
    "end\n",
    "\n",
    "function new_sgqt(ρ̂::Operator{4}, iterations::Int; paramsᵦ::NamedTuple=(;b=0.4, t=1/6), paramsᵧ::NamedTuple=(;a=55.0, A=0.0, s=1.0))\n",
    "    ϕᵢ = rand(Ket{4})\n",
    "    ψs = Ket{4}[ϕᵢ]\n",
    "    for i in 1:iterations\n",
    "        push!(ψs, ϕᵢ)\n",
    "        ϕᵢ = new_sgqt_walk(ρ̂, ϕᵢ, i, paramsᵦ, paramsᵧ)\n",
    "    end\n",
    "    ψs\n",
    "end"
   ]
  },
  {
   "cell_type": "code",
   "execution_count": 217,
   "metadata": {},
   "outputs": [
    {
     "data": {
      "text/plain": [
       "estimate_fidelities (generic function with 1 method)"
      ]
     },
     "metadata": {},
     "output_type": "display_data"
    }
   ],
   "source": [
    "# Compute the mean fidelity of the estimate of the algorithm after a given number of iterations\n",
    "function mean_fidelity(repetitions::Int, paramsᵧ::NamedTuple, paramsᵦ::NamedTuple; iterations::Int=100)\n",
    "    mean(1:repetitions) do _\n",
    "        ϕ = rand(Ket{4}) \n",
    "        fidelity(ϕ, new_sgqt(density(ϕ), iterations; paramsᵦ=paramsᵦ, paramsᵧ=paramsᵧ)[end])\n",
    "    end    \n",
    "end\n",
    "\n",
    "# Define function that calculates the mean fidelity of the algorithm after a given number of iterations\n",
    "function gridsearch(iterations::Int, repetitions::Int; grid::Matrix{Tuple{NamedTuple{(:a,), Tuple{Float64}}, NamedTuple{(:b,), Tuple{Float64}}}})\n",
    "    fidelities = map(params -> mean_fidelity(repetitions, params[1], params[2]; iterations=iterations), grid) \n",
    "    value, index  = findmax(fidelities)    \n",
    "    return fidelities, (value, grid[index]...)\n",
    "end\n",
    "\n",
    "# Calculate fidelities of estimates of algorithm using best parameters\n",
    "function estimate_fidelities(iterations::Int; paramsᵦ::NamedTuple,  paramsᵧ::NamedTuple, repetitions::Int=100)\n",
    "    fidelities  = zeros(repetitions, iterations+1)\n",
    "    foreach(1:repetitions) do index\n",
    "        ϕ = rand(Ket{4}) \n",
    "        ψs = new_sgqt(density(ϕ), iterations, paramsᵦ=paramsᵦ, paramsᵧ=paramsᵧ)\n",
    "        fidelities[index, :] .= map(ψ -> fidelity(ψ, ϕ), ψs)\n",
    "    end\n",
    "    vec(mean(fidelities, dims=1)), vec(std(fidelities, dims=1));\n",
    "end"
   ]
  },
  {
   "cell_type": "code",
   "execution_count": 229,
   "metadata": {},
   "outputs": [
    {
     "data": {
      "text/plain": [
       "(0.9246814428996328, (a = 29.473684210526315,), (b = 0.5684210526315789,))"
      ]
     },
     "metadata": {},
     "output_type": "display_data"
    }
   ],
   "source": [
    "# Define ranges for parameters\n",
    "a_range =  range(20, 40, length=20)\n",
    "b_range =  range(0.4, 0.6, length=20)\n",
    "\n",
    "# Create named tuples\n",
    "alphas = map(a -> (; a=a), a_range)\n",
    "betas = map(b -> (; b=b), b_range)\n",
    "\n",
    "# Create grid of named tuples\n",
    "grid = Grid(alphas, betas)\n",
    "\n",
    "# Perform grid search\n",
    "fids, (value, best_alpha, best_beta) = gridsearch(100, 500; grid=grid)\n",
    "value, best_alpha, best_beta"
   ]
  },
  {
   "cell_type": "code",
   "execution_count": 228,
   "metadata": {},
   "outputs": [],
   "source": [
    "μ, σ =  estimate_fidelities(100, paramsᵦ=best_beta, paramsᵧ=best_alpha)\n",
    "\n",
    "f = Figure()\n",
    "ax = Axis(f[1,1])\n",
    "band!(ax, 0:100, μ-σ, μ+σ, fillalpha=0.3, label=\"SGQT\")\n",
    "lines!(ax, 0:100, μ, label=\"SGQT\")\n",
    "f"
   ]
  },
  {
   "cell_type": "code",
   "execution_count": null,
   "metadata": {},
   "outputs": [],
   "source": []
  }
 ],
 "metadata": {
  "kernelspec": {
   "display_name": "Julia 1.9.4",
   "language": "julia",
   "name": "julia-1.9"
  },
  "language_info": {
   "file_extension": ".jl",
   "mimetype": "application/julia",
   "name": "julia",
   "version": "1.9.4"
  }
 },
 "nbformat": 4,
 "nbformat_minor": 2
}
