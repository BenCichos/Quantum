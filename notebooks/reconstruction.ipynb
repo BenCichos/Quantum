{
 "cells": [
  {
   "cell_type": "code",
   "execution_count": 1,
   "metadata": {},
   "outputs": [
    {
     "data": {
      "text/plain": [
       "matrixplot (generic function with 2 methods)"
      ]
     },
     "metadata": {},
     "output_type": "display_data"
    }
   ],
   "source": [
    "include(\"quantum.jl\")"
   ]
  },
  {
   "cell_type": "markdown",
   "metadata": {},
   "source": [
    "# Single Qubit Reconstruction using SIC-POVM"
   ]
  },
  {
   "cell_type": "code",
   "execution_count": 3,
   "metadata": {},
   "outputs": [],
   "source": [
    "# define sic povm for d=2\n",
    "ψ₀ = Ket([1,0])\n",
    "ψ₁ = Ket([1/sqrt(3), sqrt(2/3)])\n",
    "ψ₂ = 1/sqrt(3) * Ket([1, sqrt(2)*exp(2*pi*im/3)])\n",
    "ψ₃ = 1/sqrt(3) * Ket([1, sqrt(2)*exp(4*pi*im/3)])\n",
    "\n",
    "# create vector of projectors\n",
    "ψs = [ψ₀, ψ₁, ψ₂, ψ₃]\n",
    "\n",
    "# convert to operators\n",
    "π̂s = map(density, ψs);"
   ]
  },
  {
   "cell_type": "code",
   "execution_count": 4,
   "metadata": {},
   "outputs": [
    {
     "data": {
      "text/plain": [
       "1.0000000000000002"
      ]
     },
     "metadata": {},
     "output_type": "display_data"
    }
   ],
   "source": [
    "# create a random state\n",
    "ϕ₂ = rand(Ket{2})\n",
    "\n",
    "# perform measurements on random state\n",
    "meaurements_ϕ₂ = 1/2 * evaluate.([measurement(ϕ₂, π̂) for π̂ in π̂s])\n",
    "\n",
    "# reconstruct random state from meausrement results\n",
    "ϕ₂_reconstructed = 3 * sum([measurement*π̂ for (measurement, π̂) in zip(meaurements_ϕ₂, π̂s)]) - Î(2)\n",
    "\n",
    "# measure the fidelity of the reconstructed state\n",
    "fidelity_ϕ₂ = fidelity(density(ϕ₂), ϕ₂_reconstructed)"
   ]
  },
  {
   "cell_type": "markdown",
   "metadata": {},
   "source": [
    "# Two Qubit Reconstruction using SIC-POVM"
   ]
  },
  {
   "cell_type": "code",
   "execution_count": 4,
   "metadata": {},
   "outputs": [
    {
     "data": {
      "text/plain": [
       "0.9999999999999999"
      ]
     },
     "metadata": {},
     "output_type": "display_data"
    }
   ],
   "source": [
    "# create a random state\n",
    "ϕ₄ = rand(Ket{4})\n",
    "\n",
    "# perform measurements on random state\n",
    "measurements_ϕ₄ = 1/4 * evaluate.([measurement(ϕ₄, sicpovm_matrix) for sicpovm_matrix in sicpovm_matrices])\n",
    "\n",
    "# reconstruct random state from measurement results\n",
    "ϕ₄_reconstructed = 5 * sum([measurement*sicpovm_matrix for (measurement, sicpovm_matrix) in zip(measurements_ϕ₄, sicpovm_matrices)]) - Î(4)\n",
    "\n",
    "# meausre the fidelity of the reconstructed state\n",
    "fidelity_ϕ₄ = fidelity(density(ϕ₄), ϕ₄_reconstructed)"
   ]
  },
  {
   "cell_type": "markdown",
   "metadata": {},
   "source": [
    "# Two Qubit Reconstruction using SIC-POVM Tensor Product"
   ]
  },
  {
   "cell_type": "code",
   "execution_count": 5,
   "metadata": {},
   "outputs": [],
   "source": [
    "# define tensor product SIC-POVM\n",
    "Π̂s = 1/4 * [kron(π̂ᵢ, π̂ⱼ) for π̂ᵢ in π̂s for π̂ⱼ in π̂s]\n",
    "\n",
    "# check that it sums to identity\n",
    "@assert isapprox(sum(Π̂s), Î(4)) \"Not a POVM\"\n",
    "\n",
    "# check that it is informationally complete (rank = 16)\n",
    "@assert rank(hcat([reshape(adjoint(Π̂), 16) for Π̂ in data.(Π̂s)]...)) == 16 \"Not informationally complete\"\n",
    "\n",
    "# check if all operators are self adjoint\n",
    "@assert all(Π̂ -> isapprox(Π̂, dag(Π̂)), Π̂s) \"Not self adjoint\""
   ]
  }
 ],
 "metadata": {
  "kernelspec": {
   "display_name": "Julia 1.9.4",
   "language": "julia",
   "name": "julia-1.9"
  },
  "language_info": {
   "file_extension": ".jl",
   "mimetype": "application/julia",
   "name": "julia",
   "version": "1.9.4"
  }
 },
 "nbformat": 4,
 "nbformat_minor": 2
}
