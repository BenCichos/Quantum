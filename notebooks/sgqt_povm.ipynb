{
 "cells": [
  {
   "cell_type": "code",
   "execution_count": 1,
   "metadata": {},
   "outputs": [
    {
     "data": {
      "text/plain": [
       "matrixplot (generic function with 2 methods)"
      ]
     },
     "metadata": {},
     "output_type": "display_data"
    }
   ],
   "source": [
    "include(\"../quantum.jl\")"
   ]
  },
  {
   "cell_type": "code",
   "execution_count": 2,
   "metadata": {},
   "outputs": [
    {
     "data": {
      "text/plain": [
       "estimate_fidelity_povm (generic function with 1 method)"
      ]
     },
     "metadata": {},
     "output_type": "display_data"
    }
   ],
   "source": [
    "# Direct Fidelity Estimation\n",
    "function estimate_fidelity_povm(ρ̂::Operator{4}, σ̂::Operator{4}, Sᵢ::Vector{Operator{4}}) \n",
    "    return 5/length(Sᵢ) * sum(ϵ -> fidelity(ρ̂, ϵ)*fidelity(ϵ, σ̂), Sᵢ)\n",
    "end\n"
   ]
  },
  {
   "cell_type": "code",
   "execution_count": 31,
   "metadata": {},
   "outputs": [
    {
     "data": {
      "text/plain": [
       "sgqt_povm (generic function with 2 methods)"
      ]
     },
     "metadata": {},
     "output_type": "display_data"
    }
   ],
   "source": [
    "function sgqt_walk_povm(ρ̂::Operator{4}, ϕᵢ::Ket{4}, measures::AbstractVector, cardinality::Int, i::Int, paramsᵦ::NamedTuple, paramsᵧ::NamedTuple, weights::Vector{Float64})\n",
    "    Δᵢ = rand(Ket{4})\n",
    "    Sᵢ = sample(measures, Weights(weights), cardinality, replace=false)\n",
    "    βᵢ = β(i; paramsᵦ...)\n",
    "    γᵢ = γ(i; paramsᵧ...)\n",
    "\n",
    "    σ̂₊, σ̂₋ = normalize!(density(ϕᵢ + (Δᵢ*βᵢ))), normalize!(density(ϕᵢ - (Δᵢ*βᵢ)))\n",
    "    F̃₊, F̃₋ = estimate_fidelity_povm(ρ̂, σ̂₊, Sᵢ), estimate_fidelity_povm(ρ̂, σ̂₋, Sᵢ)\n",
    "    gᵢ = (F̃₊ - F̃₋)/2βᵢ\n",
    "    return normalize(ϕᵢ + γᵢ*gᵢ*Δᵢ)\n",
    "end\n",
    "\n",
    "function sgqt_povm(ρ̂::Operator{4}, iterations::Int; measures::AbstractVector=sicpovm_matrices, cardinality::Int=8, paramsᵦ::NamedTuple=(;b=0.1, t=1/6), paramsᵧ::NamedTuple=(;a=3.0, A=0.0, s=1.0), weights::Vector{Float64}=fill(1/16, 16))\n",
    "    ϕᵢ = rand(Ket{4})\n",
    "    ψs = Ket{4}[]\n",
    "    sizehint!(ψs, iterations)\n",
    "    for i in 0:iterations-1\n",
    "        push!(ψs, ϕᵢ)\n",
    "        ϕᵢ₊₁ = sgqt_walk(ρ̂, ϕᵢ, measures, cardinality, i, paramsᵦ, paramsᵧ, weights)\n",
    "        ϕᵢ = ϕᵢ₊₁\n",
    "    end\n",
    "    ψs\n",
    "end\n",
    "\n",
    "sgqt_povm(ϕ::Ket{4}, iterations::Int; measures::AbstractVector=sicpovm_matrices, cardinality::Int=8, paramsᵦ::NamedTuple=(b=0.1, t=1/6), paramsᵧ::NamedTuple=(a=3.0, A=0.0, s=1.0), weights::Vector{Float64}=fill(1/16, 16)) = sgqt(density(ϕ), iterations; measures=measures, cardinality=cardinality, paramsᵦ=paramsᵦ, paramsᵧ=paramsᵧ, weights=weights)"
   ]
  },
  {
   "cell_type": "code",
   "execution_count": 34,
   "metadata": {},
   "outputs": [
    {
     "data": {
      "text/plain": [
       "100-element Vector{Float64}:\n",
       " 0.6459332658120224\n",
       " 0.6172538546937264\n",
       " 0.6529245473097816\n",
       " 0.6880105169167966\n",
       " 0.7237847270217626\n",
       " 0.7372674103999034\n",
       " 0.7483536293110568\n",
       " 0.7680158577720769\n",
       " 0.7800914649581457\n",
       " 0.7887381584411562\n",
       " ⋮\n",
       " 0.9231479428614372\n",
       " 0.9236716929563102\n",
       " 0.9241497738275348\n",
       " 0.9246071294535225\n",
       " 0.9250102209026483\n",
       " 0.9254495594435319\n",
       " 0.9257261215078502\n",
       " 0.9259368933995556\n",
       " 0.9265173228037901"
      ]
     },
     "metadata": {},
     "output_type": "display_data"
    }
   ],
   "source": [
    "fids = Base.vec(mean(hcat(map(1:100) do _ \n",
    "    ψ4 = rand(Ket{4})\n",
    "    map(ψ -> fidelity(ψ4, ψ), sgqt_povm(ψ4, 100, paramsᵧ=(; a=90.0), paramsᵦ=(; b=0.35)))\n",
    "end...), dims=2))"
   ]
  },
  {
   "cell_type": "code",
   "execution_count": 35,
   "metadata": {},
   "outputs": [],
   "source": [
    "lines(fids)"
   ]
  },
  {
   "cell_type": "code",
   "execution_count": null,
   "metadata": {},
   "outputs": [],
   "source": []
  }
 ],
 "metadata": {
  "kernelspec": {
   "display_name": "Julia 1.9.4",
   "language": "julia",
   "name": "julia-1.9"
  },
  "language_info": {
   "file_extension": ".jl",
   "mimetype": "application/julia",
   "name": "julia",
   "version": "1.9.4"
  }
 },
 "nbformat": 4,
 "nbformat_minor": 2
}
